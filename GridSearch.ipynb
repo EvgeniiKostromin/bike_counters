{
 "cells": [
  {
   "cell_type": "code",
   "execution_count": 1,
   "id": "c09b313d-8b49-49ce-b186-1389829175e2",
   "metadata": {},
   "outputs": [],
   "source": [
    "from pathlib import Path\n",
    "from sklearn.metrics import mean_squared_error\n",
    "from sklearn.model_selection import train_test_split\n",
    "import numpy as np\n",
    "import pandas as pd\n",
    "import matplotlib.pyplot as plt\n",
    "import sklearn"
   ]
  },
  {
   "cell_type": "code",
   "execution_count": 2,
   "id": "dadf31fe-6db9-489c-a087-db39e25a7f73",
   "metadata": {},
   "outputs": [],
   "source": [
    "df_train = pd.read_parquet(Path(\"data\") / \"train.parquet\")"
   ]
  },
  {
   "cell_type": "code",
   "execution_count": 3,
   "id": "8f363606-777a-4944-916d-994da810394c",
   "metadata": {},
   "outputs": [],
   "source": [
    "def _encode_dates(X):\n",
    "\n",
    "    X = X.copy()  # modify a copy of X\n",
    "    #  Encode the date information from the DateOfDeparture columns\n",
    "    X[\"year\"] = X[\"date\"].dt.year\n",
    "    X[\"month\"] = X[\"date\"].dt.month\n",
    "    X[\"day\"] = X[\"date\"].dt.day\n",
    "    X[\"weekday\"] = X[\"date\"].dt.weekday\n",
    "    X[\"hour\"] = X[\"date\"].dt.hour\n",
    "    X['week'] = X[\"date\"].dt.isocalendar().week\n",
    "\n",
    "    return X.drop(columns=[\"date\"])"
   ]
  },
  {
   "cell_type": "code",
   "execution_count": 4,
   "id": "58528b3f-64c1-4bcc-bb0d-703e3e622e11",
   "metadata": {},
   "outputs": [],
   "source": [
    "def _merge_external_data(X):\n",
    "\n",
    "    file_path = Path('data') / \"external_data.csv\"\n",
    "    df_ext = pd.read_csv(file_path, parse_dates=[\"date\"])\n",
    "\n",
    "    X['date'] = pd.to_datetime(X['date']).astype('datetime64[ns]')\n",
    "    df_ext['date'] = pd.to_datetime(df_ext['date']).astype('datetime64[ns]')\n",
    "\n",
    "    X = X.copy()\n",
    "\n",
    "    #  When using merge_asof left frame need to be sorted\n",
    "    X[\"orig_index\"] = np.arange(X.shape[0])\n",
    "    X = pd.merge_asof(\n",
    "        X.sort_values(\"date\"),\n",
    "        df_ext[[\"date\", \"t\", 'u', \"pres\",\n",
    "                \"pmer\", 'raf10',]].sort_values(\"date\"),\n",
    "        on=\"date\"\n",
    "    )\n",
    "\n",
    "    #  Sort back to the original order\n",
    "    X = X.sort_values(\"orig_index\")\n",
    "    del X[\"orig_index\"]\n",
    "    return X"
   ]
  },
  {
   "cell_type": "code",
   "execution_count": 5,
   "id": "8c0642cc-0a39-4ac2-96c1-7f7fe11803b9",
   "metadata": {},
   "outputs": [],
   "source": [
    "df_train = _merge_external_data(df_train)"
   ]
  },
  {
   "cell_type": "code",
   "execution_count": 6,
   "id": "7747dba9-0211-44cf-b350-4f7687730a68",
   "metadata": {},
   "outputs": [],
   "source": [
    "X_dates_encoding = _encode_dates(df_train[[\"date\"]])\n",
    "df_train = pd.concat([df_train, X_dates_encoding], axis=1)"
   ]
  },
  {
   "cell_type": "code",
   "execution_count": 7,
   "id": "76084b6d-b016-49fb-a9b1-d8a6c2e269a7",
   "metadata": {},
   "outputs": [],
   "source": [
    "y = df_train['log_bike_count']\n",
    "X = df_train.drop('log_bike_count', axis=1)"
   ]
  },
  {
   "cell_type": "code",
   "execution_count": 8,
   "id": "0da4c8e3-66cd-4771-89b8-1abbbf015f10",
   "metadata": {},
   "outputs": [],
   "source": [
    "X_train, X_valid, y_train, y_valid = train_test_split(\n",
    "    X, y, random_state=2408\n",
    ")"
   ]
  },
  {
   "cell_type": "code",
   "execution_count": 9,
   "id": "fa13676c-f704-4987-835d-23c1bcdeb4e6",
   "metadata": {},
   "outputs": [
    {
     "data": {
      "text/html": [
       "<style>#sk-container-id-1 {color: black;}#sk-container-id-1 pre{padding: 0;}#sk-container-id-1 div.sk-toggleable {background-color: white;}#sk-container-id-1 label.sk-toggleable__label {cursor: pointer;display: block;width: 100%;margin-bottom: 0;padding: 0.3em;box-sizing: border-box;text-align: center;}#sk-container-id-1 label.sk-toggleable__label-arrow:before {content: \"▸\";float: left;margin-right: 0.25em;color: #696969;}#sk-container-id-1 label.sk-toggleable__label-arrow:hover:before {color: black;}#sk-container-id-1 div.sk-estimator:hover label.sk-toggleable__label-arrow:before {color: black;}#sk-container-id-1 div.sk-toggleable__content {max-height: 0;max-width: 0;overflow: hidden;text-align: left;background-color: #f0f8ff;}#sk-container-id-1 div.sk-toggleable__content pre {margin: 0.2em;color: black;border-radius: 0.25em;background-color: #f0f8ff;}#sk-container-id-1 input.sk-toggleable__control:checked~div.sk-toggleable__content {max-height: 200px;max-width: 100%;overflow: auto;}#sk-container-id-1 input.sk-toggleable__control:checked~label.sk-toggleable__label-arrow:before {content: \"▾\";}#sk-container-id-1 div.sk-estimator input.sk-toggleable__control:checked~label.sk-toggleable__label {background-color: #d4ebff;}#sk-container-id-1 div.sk-label input.sk-toggleable__control:checked~label.sk-toggleable__label {background-color: #d4ebff;}#sk-container-id-1 input.sk-hidden--visually {border: 0;clip: rect(1px 1px 1px 1px);clip: rect(1px, 1px, 1px, 1px);height: 1px;margin: -1px;overflow: hidden;padding: 0;position: absolute;width: 1px;}#sk-container-id-1 div.sk-estimator {font-family: monospace;background-color: #f0f8ff;border: 1px dotted black;border-radius: 0.25em;box-sizing: border-box;margin-bottom: 0.5em;}#sk-container-id-1 div.sk-estimator:hover {background-color: #d4ebff;}#sk-container-id-1 div.sk-parallel-item::after {content: \"\";width: 100%;border-bottom: 1px solid gray;flex-grow: 1;}#sk-container-id-1 div.sk-label:hover label.sk-toggleable__label {background-color: #d4ebff;}#sk-container-id-1 div.sk-serial::before {content: \"\";position: absolute;border-left: 1px solid gray;box-sizing: border-box;top: 0;bottom: 0;left: 50%;z-index: 0;}#sk-container-id-1 div.sk-serial {display: flex;flex-direction: column;align-items: center;background-color: white;padding-right: 0.2em;padding-left: 0.2em;position: relative;}#sk-container-id-1 div.sk-item {position: relative;z-index: 1;}#sk-container-id-1 div.sk-parallel {display: flex;align-items: stretch;justify-content: center;background-color: white;position: relative;}#sk-container-id-1 div.sk-item::before, #sk-container-id-1 div.sk-parallel-item::before {content: \"\";position: absolute;border-left: 1px solid gray;box-sizing: border-box;top: 0;bottom: 0;left: 50%;z-index: -1;}#sk-container-id-1 div.sk-parallel-item {display: flex;flex-direction: column;z-index: 1;position: relative;background-color: white;}#sk-container-id-1 div.sk-parallel-item:first-child::after {align-self: flex-end;width: 50%;}#sk-container-id-1 div.sk-parallel-item:last-child::after {align-self: flex-start;width: 50%;}#sk-container-id-1 div.sk-parallel-item:only-child::after {width: 0;}#sk-container-id-1 div.sk-dashed-wrapped {border: 1px dashed gray;margin: 0 0.4em 0.5em 0.4em;box-sizing: border-box;padding-bottom: 0.4em;background-color: white;}#sk-container-id-1 div.sk-label label {font-family: monospace;font-weight: bold;display: inline-block;line-height: 1.2em;}#sk-container-id-1 div.sk-label-container {text-align: center;}#sk-container-id-1 div.sk-container {/* jupyter's `normalize.less` sets `[hidden] { display: none; }` but bootstrap.min.css set `[hidden] { display: none !important; }` so we also need the `!important` here to be able to override the default hidden behavior on the sphinx rendered scikit-learn.org. See: https://github.com/scikit-learn/scikit-learn/issues/21755 */display: inline-block !important;position: relative;}#sk-container-id-1 div.sk-text-repr-fallback {display: none;}</style><div id=\"sk-container-id-1\" class=\"sk-top-container\"><div class=\"sk-text-repr-fallback\"><pre>Pipeline(steps=[(&#x27;columntransformer&#x27;,\n",
       "                 ColumnTransformer(transformers=[(&#x27;cat&#x27;,\n",
       "                                                  OneHotEncoder(handle_unknown=&#x27;ignore&#x27;),\n",
       "                                                  [&#x27;counter_name&#x27;]),\n",
       "                                                 (&#x27;passthrough&#x27;, &#x27;passthrough&#x27;,\n",
       "                                                  [&#x27;latitude&#x27;, &#x27;t&#x27;, &#x27;u&#x27;,\n",
       "                                                   &#x27;month&#x27;, &#x27;weekday&#x27;, &#x27;hour&#x27;,\n",
       "                                                   &#x27;day&#x27;])])),\n",
       "                (&#x27;xgbregressor&#x27;,\n",
       "                 XGBRegressor(base_score=None, booster=None, callbacks=None,\n",
       "                              colsample_bylevel=None, colsample_bynode=None,\n",
       "                              colsample_bytr...\n",
       "                              feature_types=None, gamma=0, grow_policy=None,\n",
       "                              importance_type=None,\n",
       "                              interaction_constraints=None, learning_rate=0.1,\n",
       "                              max_bin=None, max_cat_threshold=None,\n",
       "                              max_cat_to_onehot=None, max_delta_step=1,\n",
       "                              max_depth=9, max_leaves=None, min_child_weight=7,\n",
       "                              missing=nan, monotone_constraints=None,\n",
       "                              multi_strategy=None, n_estimators=980,\n",
       "                              n_jobs=None, num_parallel_tree=None,\n",
       "                              random_state=None, ...))])</pre><b>In a Jupyter environment, please rerun this cell to show the HTML representation or trust the notebook. <br />On GitHub, the HTML representation is unable to render, please try loading this page with nbviewer.org.</b></div><div class=\"sk-container\" hidden><div class=\"sk-item sk-dashed-wrapped\"><div class=\"sk-label-container\"><div class=\"sk-label sk-toggleable\"><input class=\"sk-toggleable__control sk-hidden--visually\" id=\"sk-estimator-id-1\" type=\"checkbox\" ><label for=\"sk-estimator-id-1\" class=\"sk-toggleable__label sk-toggleable__label-arrow\">Pipeline</label><div class=\"sk-toggleable__content\"><pre>Pipeline(steps=[(&#x27;columntransformer&#x27;,\n",
       "                 ColumnTransformer(transformers=[(&#x27;cat&#x27;,\n",
       "                                                  OneHotEncoder(handle_unknown=&#x27;ignore&#x27;),\n",
       "                                                  [&#x27;counter_name&#x27;]),\n",
       "                                                 (&#x27;passthrough&#x27;, &#x27;passthrough&#x27;,\n",
       "                                                  [&#x27;latitude&#x27;, &#x27;t&#x27;, &#x27;u&#x27;,\n",
       "                                                   &#x27;month&#x27;, &#x27;weekday&#x27;, &#x27;hour&#x27;,\n",
       "                                                   &#x27;day&#x27;])])),\n",
       "                (&#x27;xgbregressor&#x27;,\n",
       "                 XGBRegressor(base_score=None, booster=None, callbacks=None,\n",
       "                              colsample_bylevel=None, colsample_bynode=None,\n",
       "                              colsample_bytr...\n",
       "                              feature_types=None, gamma=0, grow_policy=None,\n",
       "                              importance_type=None,\n",
       "                              interaction_constraints=None, learning_rate=0.1,\n",
       "                              max_bin=None, max_cat_threshold=None,\n",
       "                              max_cat_to_onehot=None, max_delta_step=1,\n",
       "                              max_depth=9, max_leaves=None, min_child_weight=7,\n",
       "                              missing=nan, monotone_constraints=None,\n",
       "                              multi_strategy=None, n_estimators=980,\n",
       "                              n_jobs=None, num_parallel_tree=None,\n",
       "                              random_state=None, ...))])</pre></div></div></div><div class=\"sk-serial\"><div class=\"sk-item sk-dashed-wrapped\"><div class=\"sk-label-container\"><div class=\"sk-label sk-toggleable\"><input class=\"sk-toggleable__control sk-hidden--visually\" id=\"sk-estimator-id-2\" type=\"checkbox\" ><label for=\"sk-estimator-id-2\" class=\"sk-toggleable__label sk-toggleable__label-arrow\">columntransformer: ColumnTransformer</label><div class=\"sk-toggleable__content\"><pre>ColumnTransformer(transformers=[(&#x27;cat&#x27;, OneHotEncoder(handle_unknown=&#x27;ignore&#x27;),\n",
       "                                 [&#x27;counter_name&#x27;]),\n",
       "                                (&#x27;passthrough&#x27;, &#x27;passthrough&#x27;,\n",
       "                                 [&#x27;latitude&#x27;, &#x27;t&#x27;, &#x27;u&#x27;, &#x27;month&#x27;, &#x27;weekday&#x27;,\n",
       "                                  &#x27;hour&#x27;, &#x27;day&#x27;])])</pre></div></div></div><div class=\"sk-parallel\"><div class=\"sk-parallel-item\"><div class=\"sk-item\"><div class=\"sk-label-container\"><div class=\"sk-label sk-toggleable\"><input class=\"sk-toggleable__control sk-hidden--visually\" id=\"sk-estimator-id-3\" type=\"checkbox\" ><label for=\"sk-estimator-id-3\" class=\"sk-toggleable__label sk-toggleable__label-arrow\">cat</label><div class=\"sk-toggleable__content\"><pre>[&#x27;counter_name&#x27;]</pre></div></div></div><div class=\"sk-serial\"><div class=\"sk-item\"><div class=\"sk-estimator sk-toggleable\"><input class=\"sk-toggleable__control sk-hidden--visually\" id=\"sk-estimator-id-4\" type=\"checkbox\" ><label for=\"sk-estimator-id-4\" class=\"sk-toggleable__label sk-toggleable__label-arrow\">OneHotEncoder</label><div class=\"sk-toggleable__content\"><pre>OneHotEncoder(handle_unknown=&#x27;ignore&#x27;)</pre></div></div></div></div></div></div><div class=\"sk-parallel-item\"><div class=\"sk-item\"><div class=\"sk-label-container\"><div class=\"sk-label sk-toggleable\"><input class=\"sk-toggleable__control sk-hidden--visually\" id=\"sk-estimator-id-5\" type=\"checkbox\" ><label for=\"sk-estimator-id-5\" class=\"sk-toggleable__label sk-toggleable__label-arrow\">passthrough</label><div class=\"sk-toggleable__content\"><pre>[&#x27;latitude&#x27;, &#x27;t&#x27;, &#x27;u&#x27;, &#x27;month&#x27;, &#x27;weekday&#x27;, &#x27;hour&#x27;, &#x27;day&#x27;]</pre></div></div></div><div class=\"sk-serial\"><div class=\"sk-item\"><div class=\"sk-estimator sk-toggleable\"><input class=\"sk-toggleable__control sk-hidden--visually\" id=\"sk-estimator-id-6\" type=\"checkbox\" ><label for=\"sk-estimator-id-6\" class=\"sk-toggleable__label sk-toggleable__label-arrow\">passthrough</label><div class=\"sk-toggleable__content\"><pre>passthrough</pre></div></div></div></div></div></div></div></div><div class=\"sk-item\"><div class=\"sk-estimator sk-toggleable\"><input class=\"sk-toggleable__control sk-hidden--visually\" id=\"sk-estimator-id-7\" type=\"checkbox\" ><label for=\"sk-estimator-id-7\" class=\"sk-toggleable__label sk-toggleable__label-arrow\">XGBRegressor</label><div class=\"sk-toggleable__content\"><pre>XGBRegressor(base_score=None, booster=None, callbacks=None,\n",
       "             colsample_bylevel=None, colsample_bynode=None,\n",
       "             colsample_bytree=0.85, device=None, early_stopping_rounds=None,\n",
       "             enable_categorical=False, eval_metric=None, feature_types=None,\n",
       "             gamma=0, grow_policy=None, importance_type=None,\n",
       "             interaction_constraints=None, learning_rate=0.1, max_bin=None,\n",
       "             max_cat_threshold=None, max_cat_to_onehot=None, max_delta_step=1,\n",
       "             max_depth=9, max_leaves=None, min_child_weight=7, missing=nan,\n",
       "             monotone_constraints=None, multi_strategy=None, n_estimators=980,\n",
       "             n_jobs=None, num_parallel_tree=None, random_state=None, ...)</pre></div></div></div></div></div></div></div>"
      ],
      "text/plain": [
       "Pipeline(steps=[('columntransformer',\n",
       "                 ColumnTransformer(transformers=[('cat',\n",
       "                                                  OneHotEncoder(handle_unknown='ignore'),\n",
       "                                                  ['counter_name']),\n",
       "                                                 ('passthrough', 'passthrough',\n",
       "                                                  ['latitude', 't', 'u',\n",
       "                                                   'month', 'weekday', 'hour',\n",
       "                                                   'day'])])),\n",
       "                ('xgbregressor',\n",
       "                 XGBRegressor(base_score=None, booster=None, callbacks=None,\n",
       "                              colsample_bylevel=None, colsample_bynode=None,\n",
       "                              colsample_bytr...\n",
       "                              feature_types=None, gamma=0, grow_policy=None,\n",
       "                              importance_type=None,\n",
       "                              interaction_constraints=None, learning_rate=0.1,\n",
       "                              max_bin=None, max_cat_threshold=None,\n",
       "                              max_cat_to_onehot=None, max_delta_step=1,\n",
       "                              max_depth=9, max_leaves=None, min_child_weight=7,\n",
       "                              missing=nan, monotone_constraints=None,\n",
       "                              multi_strategy=None, n_estimators=980,\n",
       "                              n_jobs=None, num_parallel_tree=None,\n",
       "                              random_state=None, ...))])"
      ]
     },
     "execution_count": 9,
     "metadata": {},
     "output_type": "execute_result"
    }
   ],
   "source": [
    "from sklearn.compose import ColumnTransformer\n",
    "from sklearn.linear_model import Ridge\n",
    "from sklearn.pipeline import make_pipeline\n",
    "from sklearn.preprocessing import OneHotEncoder\n",
    "from sklearn.preprocessing import FunctionTransformer\n",
    "from sklearn.preprocessing import StandardScaler\n",
    "from sklearn.ensemble import RandomForestRegressor\n",
    "from sklearn.impute import SimpleImputer\n",
    "from sklearn.tree import DecisionTreeRegressor\n",
    "from sklearn.ensemble import GradientBoostingRegressor\n",
    "from sklearn.metrics import mean_squared_error\n",
    "import pandas as pd\n",
    "from xgboost import XGBRegressor\n",
    "\n",
    "\n",
    "categorical_encoder = OneHotEncoder(handle_unknown=\"ignore\")\n",
    "categorical_cols = [\"counter_name\"]\n",
    "passthrough_cols = ['latitude', 't', 'u',\n",
    "                    'month', 'weekday', 'hour', 'day']\n",
    "\n",
    "preprocessor = ColumnTransformer(\n",
    "    [\n",
    "        (\"cat\", categorical_encoder, categorical_cols),\n",
    "        ('passthrough', 'passthrough', passthrough_cols)\n",
    "    ]\n",
    ")\n",
    "\n",
    "regressor = XGBRegressor(\n",
    "    learning_rate=0.1, max_depth=9, n_estimators=980, gamma=0,\n",
    "    min_child_weight=7, reg_alpha=0.2, colsample_bytree=0.85,\n",
    "    reg_lambda=6, max_delta_step=1\n",
    ")\n",
    "\n",
    "pipe = make_pipeline(preprocessor, regressor)\n",
    "pipe.fit(X_train, y_train)"
   ]
  },
  {
   "cell_type": "code",
   "execution_count": 10,
   "id": "db4979de-d3d5-4d8d-b136-8a2543750653",
   "metadata": {},
   "outputs": [
    {
     "name": "stdout",
     "output_type": "stream",
     "text": [
      "Train set, RMSE=0.28\n",
      "Test set, RMSE=0.34\n"
     ]
    }
   ],
   "source": [
    "print(\n",
    "    f\"Train set, RMSE={mean_squared_error(y_train, pipe.predict(X_train), squared=False):.2f}\"\n",
    ")\n",
    "\n",
    "print(\n",
    "    f\"Test set, RMSE={mean_squared_error(y_valid, pipe.predict(X_valid), squared=False):.2f}\"\n",
    ")"
   ]
  },
  {
   "cell_type": "code",
   "execution_count": 11,
   "id": "d5dac527-6a01-4d55-b1da-491ba9b3233e",
   "metadata": {},
   "outputs": [
    {
     "name": "stdout",
     "output_type": "stream",
     "text": [
      "The hyper-parameters are for the full-pipeline are:\n",
      "memory\n",
      "steps\n",
      "verbose\n",
      "columntransformer\n",
      "xgbregressor\n",
      "columntransformer__n_jobs\n",
      "columntransformer__remainder\n",
      "columntransformer__sparse_threshold\n",
      "columntransformer__transformer_weights\n",
      "columntransformer__transformers\n",
      "columntransformer__verbose\n",
      "columntransformer__verbose_feature_names_out\n",
      "columntransformer__cat\n",
      "columntransformer__passthrough\n",
      "columntransformer__cat__categories\n",
      "columntransformer__cat__drop\n",
      "columntransformer__cat__dtype\n",
      "columntransformer__cat__feature_name_combiner\n",
      "columntransformer__cat__handle_unknown\n",
      "columntransformer__cat__max_categories\n",
      "columntransformer__cat__min_frequency\n",
      "columntransformer__cat__sparse\n",
      "columntransformer__cat__sparse_output\n",
      "xgbregressor__objective\n",
      "xgbregressor__base_score\n",
      "xgbregressor__booster\n",
      "xgbregressor__callbacks\n",
      "xgbregressor__colsample_bylevel\n",
      "xgbregressor__colsample_bynode\n",
      "xgbregressor__colsample_bytree\n",
      "xgbregressor__device\n",
      "xgbregressor__early_stopping_rounds\n",
      "xgbregressor__enable_categorical\n",
      "xgbregressor__eval_metric\n",
      "xgbregressor__feature_types\n",
      "xgbregressor__gamma\n",
      "xgbregressor__grow_policy\n",
      "xgbregressor__importance_type\n",
      "xgbregressor__interaction_constraints\n",
      "xgbregressor__learning_rate\n",
      "xgbregressor__max_bin\n",
      "xgbregressor__max_cat_threshold\n",
      "xgbregressor__max_cat_to_onehot\n",
      "xgbregressor__max_delta_step\n",
      "xgbregressor__max_depth\n",
      "xgbregressor__max_leaves\n",
      "xgbregressor__min_child_weight\n",
      "xgbregressor__missing\n",
      "xgbregressor__monotone_constraints\n",
      "xgbregressor__multi_strategy\n",
      "xgbregressor__n_estimators\n",
      "xgbregressor__n_jobs\n",
      "xgbregressor__num_parallel_tree\n",
      "xgbregressor__random_state\n",
      "xgbregressor__reg_alpha\n",
      "xgbregressor__reg_lambda\n",
      "xgbregressor__sampling_method\n",
      "xgbregressor__scale_pos_weight\n",
      "xgbregressor__subsample\n",
      "xgbregressor__tree_method\n",
      "xgbregressor__validate_parameters\n",
      "xgbregressor__verbosity\n"
     ]
    }
   ],
   "source": [
    "print(\"The hyper-parameters are for the full-pipeline are:\")\n",
    "for param_name in pipe.get_params().keys():\n",
    "    print(param_name)"
   ]
  },
  {
   "cell_type": "code",
   "execution_count": 12,
   "id": "305c4a91-bcf2-48cf-a54c-416e72b2ddc7",
   "metadata": {},
   "outputs": [
    {
     "name": "stdout",
     "output_type": "stream",
     "text": [
      "Fitting 5 folds for each of 27 candidates, totalling 135 fits\n",
      "Best parameters: {'xgbregressor__colsample_bytree': 0.85, 'xgbregressor__gamma': 0, 'xgbregressor__learning_rate': 0.1, 'xgbregressor__max_delta_step': 1, 'xgbregressor__max_depth': 10, 'xgbregressor__min_child_weight': 7, 'xgbregressor__n_estimators': 980, 'xgbregressor__reg_alpha': 0.2, 'xgbregressor__reg_lambda': 6, 'xgbregressor__subsample': 1}\n",
      "Best score: -0.13268903563034698\n",
      "Execution time: 15.329617540041605\n"
     ]
    }
   ],
   "source": [
    "from sklearn.model_selection import TimeSeriesSplit, cross_val_score\n",
    "import time\n",
    "from sklearn.model_selection import GridSearchCV\n",
    "\n",
    "#  Define the parameter grid\n",
    "param_grid = {\n",
    "    'xgbregressor__n_estimators': [900, 980, 1000],\n",
    "    'xgbregressor__learning_rate': [0.1, 0.11, 0.12],\n",
    "    'xgbregressor__max_depth': [8, 9, 10],\n",
    "    'xgbregressor__gamma': [0],\n",
    "    'xgbregressor__min_child_weight': [7],\n",
    "    'xgbregressor__colsample_bytree': [0.85],\n",
    "    'xgbregressor__subsample': [1],\n",
    "    'xgbregressor__reg_alpha': [0.2],\n",
    "    'xgbregressor__reg_lambda': [6],\n",
    "    'xgbregressor__max_delta_step': [1],\n",
    "}\n",
    "\n",
    "#  Perform grid search with 5-fold cross-validation\n",
    "start = time.time()\n",
    "model_grid_search = GridSearchCV(\n",
    "    pipe, param_grid, scoring='neg_mean_squared_error',\n",
    "    cv=TimeSeriesSplit(n_splits=5), n_jobs=-1, verbose=2\n",
    ")\n",
    "\n",
    "model_grid_search.fit(X_train, y_train)\n",
    "elapsed_time = time.time() - start\n",
    "\n",
    "#  Best parameters and best score\n",
    "print(\"Best parameters:\", model_grid_search.best_params_)\n",
    "print(\"Best score:\", model_grid_search.best_score_)\n",
    "print(\"Execution time:\", elapsed_time / 60)"
   ]
  },
  {
   "cell_type": "code",
   "execution_count": null,
   "id": "9e354ec0-26fe-4ce9-860e-3e3ae2c4aa8c",
   "metadata": {},
   "outputs": [],
   "source": []
  }
 ],
 "metadata": {
  "kernelspec": {
   "display_name": "Python 3 (ipykernel)",
   "language": "python",
   "name": "python3"
  },
  "language_info": {
   "codemirror_mode": {
    "name": "ipython",
    "version": 3
   },
   "file_extension": ".py",
   "mimetype": "text/x-python",
   "name": "python",
   "nbconvert_exporter": "python",
   "pygments_lexer": "ipython3",
   "version": "3.10.13"
  }
 },
 "nbformat": 4,
 "nbformat_minor": 5
}
